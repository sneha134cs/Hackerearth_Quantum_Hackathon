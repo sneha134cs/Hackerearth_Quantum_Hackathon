{
 "cells": [
  {
   "cell_type": "code",
   "execution_count": null,
   "id": "6f71966a-643a-4d83-b8c2-508a64d72f57",
   "metadata": {},
   "outputs": [],
   "source": [
    "import numpy as np\n",
    "from qiskit import QuantumRegister, ClassicalRegister, QuantumCircuit, Aer, execute\n",
    "%matplotlib inline\n",
    "from qiskit.providers.aer import AerError, QasmSimulator\n",
    "from qiskit.visualization import plot_histogram\n",
    "\n",
    "backend_state = Aer.get_backend('statevector_simulator')\n",
    "backend_sim = Aer.get_backend('qasm_simulator')"
   ]
  },
  {
   "cell_type": "code",
   "execution_count": null,
   "id": "1d8dc9ea-6033-4b3b-bd93-a6c5c9c721db",
   "metadata": {
    "tags": []
   },
   "outputs": [],
   "source": [
    "## Input section\n",
    "nNodes=int(input(\"Number of nodes : \"))\n",
    "nColors=int(input(\"Number of colours : \")) # nColors <= nNodes"
   ]
  },
  {
   "cell_type": "code",
   "execution_count": null,
   "id": "10f5f969-de59-454b-be3b-158a518554e6",
   "metadata": {},
   "outputs": [],
   "source": [
    "# Calculation of required Qubits\n",
    "nc=nColors+1                  # For each node, one extra bit for intermediate calculation, no of elements in a row.\n",
    "nn2=round((nNodes-1)*nNodes/2)# number of pairs of vertices \n",
    "sc=round(nc*nNodes)           # bits required for representing the colouring matrix\n",
    "sg=round(nc*nNodes + nn2)     # Index number from which the graph representation bits start\n",
    "nqbits= sc + 2*nn2            # calculation of total qubits"
   ]
  },
  {
   "cell_type": "code",
   "execution_count": null,
   "id": "15651911-3152-4f48-a4b9-66fdaabb25d3",
   "metadata": {},
   "outputs": [],
   "source": [
    "# Create a Quantum Circuit\n",
    "q = QuantumRegister(nqbits+1)\n",
    "c=ClassicalRegister(nColors*nNodes)\n",
    "qc = QuantumCircuit(q,c)"
   ]
  },
  {
   "cell_type": "code",
   "execution_count": null,
   "id": "ce1e0b33-1292-4b3e-b2f4-9af068656e38",
   "metadata": {},
   "outputs": [],
   "source": [
    "# Importing graph visualization libraries\n",
    "import networkx as nx\n",
    "import matplotlib.pyplot as plt\n",
    "\n",
    "G = nx.Graph()"
   ]
  },
  {
   "cell_type": "code",
   "execution_count": null,
   "id": "fdd2ff89-3fc3-4dea-bc99-0113e49ee334",
   "metadata": {},
   "outputs": [],
   "source": [
    "#Graph adjacency input\n",
    "# Add the graph (binary list of nNodes*(nNodes-1)/2 elements,\n",
    "# because the graph is symmetric and there is no i=>i edges.\n",
    "# Set to |1> the qubits corresponding to an edge.\n",
    "\n",
    "\n",
    "'''\n",
    "3 nodes, needs 3 colors\n",
    "0 1 1\n",
    "1 0 1\n",
    "1 1 0\n",
    "=> 1 1 1\n",
    "3 nodes, needs 2 colors\n",
    "0 1 0\n",
    "1 0 1\n",
    "0 1 0\n",
    "=> 1 0 1\n",
    "'''\n",
    "count = 0\n",
    "for i in range(nNodes):\n",
    "    for j in range(i+1, nNodes):\n",
    "        if(int(input(\"vertex {} adjacent to {} ? ( 1 : yes / 0 : no) : \".format(i+1,j+1))) == 1):\n",
    "            qc.x(sg+count) #set to one if there is edge\n",
    "            G.add_edge(i+1, j+1)\n",
    "        count += 1\n",
    "\n",
    "\n",
    "qc.draw(output='mpl')\n",
    "\n",
    "colours = []\n",
    "for node in G:\n",
    "    colours.append(\"green\")\n",
    "\n",
    "nx.draw(G,node_color = colours, with_labels = True, font_color = \"white\")\n",
    "plt.show()"
   ]
  },
  {
   "cell_type": "code",
   "execution_count": null,
   "id": "156fb3f6-778b-485a-aa18-508713084ae6",
   "metadata": {},
   "outputs": [],
   "source": [
    "#Creating superposition state on colouring matrix qubits\n",
    "s=0\n",
    "for n in range(nNodes):\n",
    "    for k in range(nColors):\n",
    "        qc.h(s+k)\n",
    "    s=s+nc\n",
    "\n",
    "qc.draw(output='mpl')"
   ]
  },
  {
   "cell_type": "code",
   "execution_count": null,
   "id": "1666ecc6-5087-4934-bf4b-ce91ff012e21",
   "metadata": {},
   "outputs": [],
   "source": [
    "# A filtering code used to generate only valid colouring matrices.\n",
    "# Constraint: only one 1 in a row\n",
    "s=0\n",
    "for n in range(nNodes):\n",
    "    for k in range(nColors-1):\n",
    "        for l in range(k+1,nColors):\n",
    "            # Eliminate 11\n",
    "            qc.ccx (s+k,s+l,s+nColors)\n",
    "            qc.cx (s+nColors,s+k)\n",
    "            qc.reset(s+nColors)\n",
    "    # Eliminate 0* (no colour assigned to the node n)\n",
    "    for k in range(nColors):\n",
    "        qc.x(s+k) \n",
    "    cb=list(range(s,s+nColors) )\n",
    "    qc.mcx (cb,s+nColors)\n",
    "    for k in range(nColors):\n",
    "        qc.x(s+k) \n",
    "    qc.cx (s+nColors,s+nColors-1)\n",
    "    qc.reset(s+nColors)\n",
    "    s=s+nc\n",
    "    \n",
    "qc.barrier()\n",
    "print('end of colouring matrices')\n",
    "\n",
    "qc.draw(output='mpl')"
   ]
  },
  {
   "cell_type": "code",
   "execution_count": null,
   "id": "d043ae06-0fb5-4020-ba66-e8399391eaa9",
   "metadata": {},
   "outputs": [],
   "source": [
    "#Identifying the pairs of vertices having same colour,\n",
    "#and setting their respective qubits to 1.\n",
    "for k in range(nColors):\n",
    "    s=nc*nNodes\n",
    "    for n1 in range(nNodes-1):\n",
    "        for n2 in range(n1+1,nNodes):\n",
    "            n11=nc*n1+k       # If q[n11]=|1> it means the node n1 has the color k\n",
    "            n22=nc*n2+k       # If q[n22]=|1> it means the node n2 has the color k\n",
    "            qc.ccx(n11,n22,s) # If same color k, set s to |1>.\n",
    "                              # Notice it can happens at most for one k\n",
    "            s=s+1\n",
    "\n",
    "print('end of pairs of nodes')\n",
    "qc.barrier()\n",
    "\n",
    "qc.draw(output='mpl')"
   ]
  },
  {
   "cell_type": "code",
   "execution_count": null,
   "id": "4a75c590-97c3-4d2c-8e28-820110926e0b",
   "metadata": {},
   "outputs": [],
   "source": [
    "# Compare to the graph and check pair of vertices with same colours and if an edge is present, \n",
    "#make it invalid.\n",
    "for k in range(nColors):\n",
    "    s=nc*nNodes\n",
    "    for n1 in range(nNodes-1):\n",
    "        for n2 in range(n1+1,nNodes):\n",
    "            n11=nc*n1+k # If q[n11]=|1> it means the node n1 has the color k\n",
    "            pair = s+nNodes\n",
    "            ancil = n1*nc + nColors\n",
    "            cb=[n11,pair,s]\n",
    "            qc.mcx (cb,ancil)\n",
    "            cb=[ancil,pair,s]\n",
    "            qc.mcx (cb,n11)\n",
    "            qc.reset(ancil)\n",
    "            qc.barrier()\n",
    "             # If same color k, set s to |1>.\n",
    "             # Notice it can happens at most for one k\n",
    "            s=s+1\n",
    "print('end of compare to graph')\n",
    "\n",
    "qc.draw(output='mpl')"
   ]
  },
  {
   "cell_type": "code",
   "execution_count": null,
   "id": "96ff8581-820b-49fc-a435-cef789eb6cb4",
   "metadata": {},
   "outputs": [],
   "source": [
    "#Filter 0 rows\n",
    "#Eliminating invalid matrices\n",
    "s=0\n",
    "for n in range(nNodes):\n",
    "    \n",
    "    cb=list(range(s,s+nColors))\n",
    " \n",
    "    qc.x(cb)\n",
    "    qc.mcx (cb,s+nColors)\n",
    "    qc.x(cb)\n",
    "    pos=0\n",
    "    for m in range(nNodes):\n",
    "        for k in range(nColors):\n",
    "            qc.reset(nqbits)\n",
    "            qc.cswap(s+nColors,pos+k,nqbits)\n",
    "        qc.barrier()\n",
    "        pos=pos+nc\n",
    "    s=s+nc\n",
    "\n",
    "qc.barrier()\n",
    "\n",
    "qc.draw(output='mpl')"
   ]
  },
  {
   "cell_type": "code",
   "execution_count": null,
   "id": "94639361-7000-4649-b0c9-2feba5167d9c",
   "metadata": {},
   "outputs": [],
   "source": [
    "# Measure (only the qubits describing the colouring matrices)\n",
    "cb=0\n",
    "for n in range(nNodes):\n",
    "    s=n*(nColors+1)\n",
    "    for k in range(nColors):\n",
    "        qb=s+k\n",
    "        qc.measure(qb,cb)\n",
    "        cb=cb+1\n",
    "print('end of measures')\n",
    "\n",
    "qc.draw(output='mpl')"
   ]
  },
  {
   "cell_type": "code",
   "execution_count": null,
   "id": "7b4396cc-20dd-4b64-84f5-85c5c171f8cb",
   "metadata": {
    "tags": []
   },
   "outputs": [],
   "source": [
    "# Quick on small graphs, but memory error for 4 nodes, 3 colours\n",
    "job = execute(qc, backend_sim,shots=1000)\n",
    "result=job.result()\n",
    "\n",
    "print('end of execute')"
   ]
  },
  {
   "cell_type": "code",
   "execution_count": null,
   "id": "9d99ecee-078b-42a4-a2ed-9ff282af258e",
   "metadata": {},
   "outputs": [],
   "source": [
    "# Take the results from the job.\n",
    "counts = result.get_counts(qc)\n",
    "\n",
    "if len(counts) > 1:\n",
    "    counts.pop(\"0\"*nNodes*nColors, None)\n",
    "    \n",
    "plot_histogram(counts, color='midnightblue', title=\"Colourings\")"
   ]
  },
  {
   "cell_type": "code",
   "execution_count": null,
   "id": "45fcec11-0c55-4936-89c1-1c99c05156e3",
   "metadata": {},
   "outputs": [],
   "source": [
    "#Displaying graph colourings\n",
    "colour = [\"blue\", \"red\", \"green\", \"purple\"]\n",
    "\n",
    "for graph in counts:\n",
    "    print(\"Graph for colouring {}\".format(graph))\n",
    "    colours = []\n",
    "    cList =list(map(''.join, zip(*[iter(graph)]*nColors)))\n",
    "    for node in cList:\n",
    "        colours.append(colour[node.index(\"1\")])\n",
    "    nx.draw(G,node_color = colours, with_labels = True, font_color = \"white\")\n",
    "    plt.show()"
   ]
  }
 ],
 "metadata": {
  "kernelspec": {
   "display_name": "Python 3 (ipykernel)",
   "language": "python",
   "name": "python3"
  },
  "language_info": {
   "codemirror_mode": {
    "name": "ipython",
    "version": 3
   },
   "file_extension": ".py",
   "mimetype": "text/x-python",
   "name": "python",
   "nbconvert_exporter": "python",
   "pygments_lexer": "ipython3",
   "version": "3.8.13"
  },
  "vscode": {
   "interpreter": {
    "hash": "26de051ba29f2982a8de78e945f0abaf191376122a1563185a90213a26c5da77"
   }
  },
  "widgets": {
   "application/vnd.jupyter.widget-state+json": {
    "state": {},
    "version_major": 2,
    "version_minor": 0
   }
  }
 },
 "nbformat": 4,
 "nbformat_minor": 5
}
